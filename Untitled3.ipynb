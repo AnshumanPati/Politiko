{
 "cells": [
  {
   "cell_type": "code",
   "execution_count": 42,
   "metadata": {},
   "outputs": [],
   "source": [
    "from tkinter import *"
   ]
  },
  {
   "cell_type": "code",
   "execution_count": 70,
   "metadata": {},
   "outputs": [],
   "source": [
    "def clicked():\n",
    "     lbl.configure(text=\"Searching For Results...\\n\")"
   ]
  },
  {
   "cell_type": "code",
   "execution_count": 90,
   "metadata": {},
   "outputs": [],
   "source": [
    "window = Tk()\n",
    "window.title(\"Welcome to Mann Ki Baat Search Engine\")\n",
    "window.geometry('720x500')\n",
    "lbl = Label(window, text=\"Search Engine Name\\n\", font=(\"Times New Roman\", 50))\n",
    "lbl.grid(column=0, row=0)\n",
    "txt = Entry(window,width=75)\n",
    "txt.grid(column=0, row=1)\n",
    "btn = Button(window, text=\"Search\", command=clicked)\n",
    "btn.grid(column=0, row=2)\n",
    "window.mainloop()"
   ]
  }
 ],
 "metadata": {
  "kernelspec": {
   "display_name": "Python 3",
   "language": "python",
   "name": "python3"
  },
  "language_info": {
   "codemirror_mode": {
    "name": "ipython",
    "version": 3
   },
   "file_extension": ".py",
   "mimetype": "text/x-python",
   "name": "python",
   "nbconvert_exporter": "python",
   "pygments_lexer": "ipython3",
   "version": "3.7.3"
  }
 },
 "nbformat": 4,
 "nbformat_minor": 2
}
